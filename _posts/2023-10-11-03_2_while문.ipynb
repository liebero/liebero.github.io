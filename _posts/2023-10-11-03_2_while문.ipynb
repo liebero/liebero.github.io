{
  "nbformat": 4,
  "nbformat_minor": 0,
  "metadata": {
    "colab": {
      "provenance": []
    },
    "kernelspec": {
      "name": "python3",
      "display_name": "Python 3"
    },
    "language_info": {
      "name": "python"
    }
  },
  "cells": [
    {
      "cell_type": "markdown",
      "source": [
        "## 03-2 while문\n",
        "\n",
        "1.   시작 조건을 명시\n",
        "2.   반복방식 명시\n",
        "3.   반복시 실행결과 명시\n",
        "4.   반복이 끝나는 조건 명시\n",
        "5.   반복이 끝날때 결과 명시\n"
      ],
      "metadata": {
        "id": "r-IG1M4kLQdI"
      }
    },
    {
      "cell_type": "markdown",
      "source": [
        "#### 1. while 문의 기본 구조\n",
        "```\n",
        "while 조건문:\n",
        "    수행할_문장1\n",
        "    수행할_문장2\n",
        "    수행할_문장3\n",
        "    ...\n",
        "```"
      ],
      "metadata": {
        "id": "cDeFttD_jZjS"
      }
    },
    {
      "cell_type": "code",
      "source": [
        "treeHit = 0\n",
        "while treeHit < 10 :\n",
        "    treeHit = treeHit + 1\n",
        "    print ('나무에 도끼질을 %d번 했습니다.' % treeHit)\n",
        "    if treeHit == 10 :\n",
        "        print ('나무가 넘어갑니다.')\n"
      ],
      "metadata": {
        "id": "wRSXXCBba4ra"
      },
      "execution_count": null,
      "outputs": []
    },
    {
      "cell_type": "markdown",
      "source": [
        "#### 2. while 문 만들기"
      ],
      "metadata": {
        "id": "S6HdByccjTcg"
      }
    },
    {
      "cell_type": "code",
      "source": [
        "prompt = \"\"\"\n",
        "    1. Add\n",
        "    2. Del\n",
        "    3. List\n",
        "    4. Quit\n",
        "\n",
        "    Enter number: \"\"\"\n",
        "number = 0\n",
        "while number != 4 :\n",
        "    print(prompt)\n",
        "    number = int(input())\n"
      ],
      "metadata": {
        "id": "a3wmaikzjnaD"
      },
      "execution_count": null,
      "outputs": []
    },
    {
      "cell_type": "markdown",
      "source": [
        "#### 3. while 문 강제로 빠져나가기"
      ],
      "metadata": {
        "id": "Vb-C-aLylBjR"
      }
    },
    {
      "cell_type": "markdown",
      "source": [
        "- 커피값 300원이면 커피를 주고, 많으면 커피와 거스름돈을 주고 다 팔면 중지하는 코드\n",
        "\n",
        "1.   먼저 True 를 선언하고,\n",
        "2.   True 조건을 넣어주고,\n",
        "3.   그렇지 않은 경우를 코드로 넣는다.\n",
        "\n"
      ],
      "metadata": {
        "id": "2dKcLpT0sUvd"
      }
    },
    {
      "cell_type": "code",
      "source": [
        "coffee = 2\n",
        "money = 300\n",
        "while True :\n",
        "    money = int(input('돈을 넣어주세요'))\n",
        "    if money == 300 :\n",
        "        print('커피를 줍니다.')\n",
        "        coffee = coffee - 1\n",
        "    elif money > 300 :\n",
        "        print('거스픔돈 %d를 주고 커피를 줍니다.' % (money - 300))\n",
        "        coffee = coffee - 1\n",
        "    elif money < 300 :\n",
        "        print('돈은 그냥 돌려주고 커피는 주지 않습니다.')\n",
        "        print('남은 커피의 양은 %d개입니다.' % coffee)\n",
        "    if coffee == 0 :\n",
        "        print('커피가 다 떨어졌습니다. 판매를 중지합니다.')\n",
        "        break"
      ],
      "metadata": {
        "id": "zKoYyeAMoiRz",
        "colab": {
          "base_uri": "https://localhost:8080/"
        },
        "outputId": "6ff58f46-3c0f-477f-9b8f-a1943a58bd4b"
      },
      "execution_count": null,
      "outputs": [
        {
          "output_type": "stream",
          "name": "stdout",
          "text": [
            "돈을 넣어주세요200\n",
            "돈은 그냥 돌려주고 커피는 주지 않습니다.\n",
            "남은 커피의 양은 2개입니다.\n",
            "돈을 넣어주세요300\n",
            "커피를 줍니다.\n",
            "돈을 넣어주세요300\n",
            "커피를 줍니다.\n",
            "커피가 다 떨어졌습니다. 판매를 중지합니다.\n"
          ]
        }
      ]
    },
    {
      "cell_type": "code",
      "source": [
        "while True :\n",
        "    name = str(input('이름: '))\n",
        "    number = int(input('주민앞번호: '))\n",
        "    if name == '홍길동' and number == 100101 :\n",
        "        print('%s님 수료하셨습니다!' % name)\n",
        "        break\n",
        "    else :\n",
        "        print('이름을 다시 입력하세요!')\n"
      ],
      "metadata": {
        "id": "QA0w8EAOv9eN"
      },
      "execution_count": null,
      "outputs": []
    },
    {
      "cell_type": "code",
      "source": [
        "num = 0\n",
        "while True:\n",
        "    num = int(input(\"숫자를 입력하세요: \"))\n",
        "    if num == 0:\n",
        "        print(\"종료합니다.\")\n",
        "        break\n",
        "    else:\n",
        "        print(num ** 2)"
      ],
      "metadata": {
        "id": "gvXvCk-kTkH_"
      },
      "execution_count": null,
      "outputs": []
    },
    {
      "cell_type": "markdown",
      "source": [
        "#### 4. while 문의 맨 처음으로 돌아가기"
      ],
      "metadata": {
        "id": "_vBh8yVL-Yus"
      }
    },
    {
      "cell_type": "code",
      "source": [
        "a = 0\n",
        "while a < 10 :\n",
        "    a = a + 1\n",
        "    if a % 2 == 0 :\n",
        "        continue\n",
        "    print(a, end = \" \")"
      ],
      "metadata": {
        "colab": {
          "base_uri": "https://localhost:8080/"
        },
        "id": "JOMdBc8o-dQJ",
        "outputId": "6cfb833a-b88c-4bfc-bad3-52cd3c9277b3"
      },
      "execution_count": null,
      "outputs": [
        {
          "output_type": "stream",
          "name": "stdout",
          "text": [
            "1 3 5 7 9 "
          ]
        }
      ]
    }
  ]
}