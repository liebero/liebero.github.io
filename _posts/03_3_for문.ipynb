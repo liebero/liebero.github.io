{
  "nbformat": 4,
  "nbformat_minor": 0,
  "metadata": {
    "colab": {
      "provenance": []
    },
    "kernelspec": {
      "name": "python3",
      "display_name": "Python 3"
    },
    "language_info": {
      "name": "python"
    }
  },
  "cells": [
    {
      "cell_type": "markdown",
      "source": [
        "## 03-3 for문\n",
        " - 시작 리스트 등 명시\n",
        " - for문 명시\n",
        " - 결과"
      ],
      "metadata": {
        "id": "Cke7V-F4B-jd"
      }
    },
    {
      "cell_type": "markdown",
      "source": [
        "#### 1. for문의 사용"
      ],
      "metadata": {
        "id": "iWhSq4reEXM8"
      }
    },
    {
      "cell_type": "code",
      "execution_count": null,
      "metadata": {
        "colab": {
          "base_uri": "https://localhost:8080/"
        },
        "id": "q9f6ggitB2ad",
        "outputId": "079aba4f-03fa-4669-e1c5-3c61c6a34e14"
      },
      "outputs": [
        {
          "output_type": "stream",
          "name": "stdout",
          "text": [
            "1 2 3 4 5 6 "
          ]
        }
      ],
      "source": [
        "a = [1,2,3,4,5,6]\n",
        "for i in a :\n",
        "    print(i, end = \" \")"
      ]
    },
    {
      "cell_type": "code",
      "source": [
        "a = [('a',1), ('b',2), ('c',3)]\n",
        "for (first, last) in a :\n",
        "    print(first, last, end = \", \")"
      ],
      "metadata": {
        "colab": {
          "base_uri": "https://localhost:8080/"
        },
        "id": "a1kxGicPDe02",
        "outputId": "3ed60956-0fce-4a01-a749-341620499210"
      },
      "execution_count": null,
      "outputs": [
        {
          "output_type": "stream",
          "name": "stdout",
          "text": [
            "a 1, b 2, c 3, "
          ]
        }
      ]
    },
    {
      "cell_type": "code",
      "source": [
        "marks = [90, 25, 67, 45, 80]\n",
        "number = 0\n",
        "for mark in marks :\n",
        "    number = number + 1\n",
        "    if mark >= 60 :\n",
        "        print ('%d님은 합격입니다.' % number)\n",
        "    else :\n",
        "        print ('%d님은 불합격입니다.' % number)"
      ],
      "metadata": {
        "id": "nxT-ew54Ebvi",
        "colab": {
          "base_uri": "https://localhost:8080/"
        },
        "outputId": "e1d0b748-e279-486b-9dc7-27a75afdd527"
      },
      "execution_count": null,
      "outputs": [
        {
          "output_type": "stream",
          "name": "stdout",
          "text": [
            "1님은 합격입니다.\n",
            "2님은 불합격입니다.\n",
            "3님은 합격입니다.\n",
            "4님은 불합격입니다.\n",
            "5님은 합격입니다.\n"
          ]
        }
      ]
    },
    {
      "cell_type": "markdown",
      "source": [
        "#### 2. for 문과 continue 문"
      ],
      "metadata": {
        "id": "tf9HoYXrLpME"
      }
    },
    {
      "cell_type": "code",
      "source": [
        "marks = [90, 25, 67, 45, 80]\n",
        "number = 0\n",
        "for mark in marks :\n",
        "    number = number + 1\n",
        "    if mark < 60 :\n",
        "        continue\n",
        "    else :\n",
        "        print('%d님 합격을 축하합니다. 합격하셨습니다.'% number)"
      ],
      "metadata": {
        "colab": {
          "base_uri": "https://localhost:8080/"
        },
        "id": "Uf3-v7scLlqe",
        "outputId": "5874ecf2-0762-4fc0-8305-ae74b5ee7007"
      },
      "execution_count": null,
      "outputs": [
        {
          "output_type": "stream",
          "name": "stdout",
          "text": [
            "1님 합격을 축하합니다. 합격하셨습니다.\n",
            "3님 합격을 축하합니다. 합격하셨습니다.\n",
            "5님 합격을 축하합니다. 합격하셨습니다.\n"
          ]
        }
      ]
    },
    {
      "cell_type": "markdown",
      "source": [
        "#### 3. for 문과 함께 자주 사용하는 range 함수"
      ],
      "metadata": {
        "id": "rCTC3EWCQI32"
      }
    },
    {
      "cell_type": "code",
      "source": [
        "a = range(1,20)\n",
        "print(a)"
      ],
      "metadata": {
        "colab": {
          "base_uri": "https://localhost:8080/"
        },
        "id": "qjVYRHoNQLVi",
        "outputId": "d735f9e4-5b7d-482c-cf9d-6a357d958bdc"
      },
      "execution_count": null,
      "outputs": [
        {
          "output_type": "stream",
          "name": "stdout",
          "text": [
            "range(1, 20)\n"
          ]
        }
      ]
    },
    {
      "cell_type": "code",
      "source": [
        "add = 0\n",
        "a = range(1, 11)\n",
        "for i in a :\n",
        "    add = add + i\n",
        "print(add)"
      ],
      "metadata": {
        "colab": {
          "base_uri": "https://localhost:8080/"
        },
        "id": "sZaZXcwFREv8",
        "outputId": "87284762-579a-4f00-a232-cf0fcc2e7908"
      },
      "execution_count": null,
      "outputs": [
        {
          "output_type": "stream",
          "name": "stdout",
          "text": [
            "55\n"
          ]
        }
      ]
    },
    {
      "cell_type": "code",
      "source": [
        "add = 0\n",
        "a = range(1, 11)\n",
        "for i in a :\n",
        "    add = add + i\n",
        "    print(add)"
      ],
      "metadata": {
        "colab": {
          "base_uri": "https://localhost:8080/"
        },
        "id": "bo3sY-AqRwRQ",
        "outputId": "b0f0caea-51fd-4b62-dad6-528283dd2f73"
      },
      "execution_count": null,
      "outputs": [
        {
          "output_type": "stream",
          "name": "stdout",
          "text": [
            "1\n",
            "3\n",
            "6\n",
            "10\n",
            "15\n",
            "21\n",
            "28\n",
            "36\n",
            "45\n",
            "55\n"
          ]
        }
      ]
    },
    {
      "cell_type": "markdown",
      "source": [
        "- <font color = red>예시 : ren 함수 활용 </blue>\n",
        "\n"
      ],
      "metadata": {
        "id": "0GV1eeueCeB3"
      }
    },
    {
      "cell_type": "code",
      "source": [
        "marks = [90, 25, 67, 45, 80]\n",
        "for number in range(len(marks)):\n",
        "    if marks[number] < 60:\n",
        "        continue\n",
        "    print(\"%d번 학생 축하합니다. 합격입니다.\" % (number+1))"
      ],
      "metadata": {
        "colab": {
          "base_uri": "https://localhost:8080/"
        },
        "id": "xLjK9JXfEQ-2",
        "outputId": "a6f27908-7147-4629-ac01-ce49f79861e0"
      },
      "execution_count": null,
      "outputs": [
        {
          "output_type": "stream",
          "name": "stdout",
          "text": [
            "1번 학생 축하합니다. 합격입니다.\n",
            "3번 학생 축하합니다. 합격입니다.\n",
            "5번 학생 축하합니다. 합격입니다.\n",
            "4\n"
          ]
        }
      ]
    },
    {
      "cell_type": "markdown",
      "source": [
        "#### 5. for와 range를 이용한 구구단"
      ],
      "metadata": {
        "id": "SxBxH7ypIrQa"
      }
    },
    {
      "cell_type": "code",
      "source": [
        "for a in range(2, 10) :\n",
        "    for b in range(1, 10) :\n",
        "        print( a * b, end = ' ')\n",
        "    print('')"
      ],
      "metadata": {
        "colab": {
          "base_uri": "https://localhost:8080/"
        },
        "id": "dpGVh43YIvmW",
        "outputId": "aa439d8a-64a8-4fbd-f9e7-44634acd0d7b"
      },
      "execution_count": null,
      "outputs": [
        {
          "output_type": "stream",
          "name": "stdout",
          "text": [
            "2 4 6 8 10 12 14 16 18 \n",
            "3 6 9 12 15 18 21 24 27 \n",
            "4 8 12 16 20 24 28 32 36 \n",
            "5 10 15 20 25 30 35 40 45 \n",
            "6 12 18 24 30 36 42 48 54 \n",
            "7 14 21 28 35 42 49 56 63 \n",
            "8 16 24 32 40 48 56 64 72 \n",
            "9 18 27 36 45 54 63 72 81 \n"
          ]
        }
      ]
    },
    {
      "cell_type": "markdown",
      "source": [
        "#### 6. 리스트 컴프리헨션 사용하기"
      ],
      "metadata": {
        "id": "pCDDkpgxzhaD"
      }
    },
    {
      "cell_type": "code",
      "source": [
        "a = [1, 2, 3, 4]\n",
        "result = [ ]\n",
        "for c in a :\n",
        "    result.append(c * 3)\n",
        "print(result)"
      ],
      "metadata": {
        "colab": {
          "base_uri": "https://localhost:8080/"
        },
        "id": "ZU_n7S4nz5sC",
        "outputId": "6972aec8-88d7-4cc2-b7f4-8b431879cfc4"
      },
      "execution_count": null,
      "outputs": [
        {
          "output_type": "stream",
          "name": "stdout",
          "text": [
            "[3, 6, 9, 12]\n"
          ]
        }
      ]
    },
    {
      "cell_type": "code",
      "source": [
        "a = [1,2,3,4]\n",
        "result = [num*3 for num in a]\n",
        "print(result)"
      ],
      "metadata": {
        "colab": {
          "base_uri": "https://localhost:8080/"
        },
        "id": "Hyo0_A6JHFS-",
        "outputId": "14caefdb-e60d-42af-a282-d124f4dac778"
      },
      "execution_count": null,
      "outputs": [
        {
          "output_type": "stream",
          "name": "stdout",
          "text": [
            "[3, 6, 9, 12]\n"
          ]
        }
      ]
    },
    {
      "cell_type": "markdown",
      "source": [
        "- <font color = 'blue'>만약 [1, 2, 3, 4] 중에서 짝수에만 3을 곱하여 담고 싶다면 리스트 컴프리헨션 안에 if 조건문’을 사용 </font>"
      ],
      "metadata": {
        "id": "SLkAvORgIz0t"
      }
    },
    {
      "cell_type": "code",
      "source": [
        "a = [1,2,3,4]\n",
        "result = [num*3 for num in a if num %2 == 0]\n",
        "print(result)"
      ],
      "metadata": {
        "colab": {
          "base_uri": "https://localhost:8080/"
        },
        "id": "EgTjkN7yJPE3",
        "outputId": "6f745f80-fc79-4e63-b2e9-dbe7d5763de5"
      },
      "execution_count": null,
      "outputs": [
        {
          "output_type": "stream",
          "name": "stdout",
          "text": [
            "[6, 12]\n"
          ]
        }
      ]
    },
    {
      "cell_type": "markdown",
      "source": [
        "- [표현식 for 항목 in 반복_가능_객체 if 조건문]"
      ],
      "metadata": {
        "id": "N-NJu1GwQuBs"
      }
    },
    {
      "cell_type": "code",
      "source": [
        "result = [x*y for x in range(2,10)\n",
        "    for y in range(1,10)]\n",
        "print(result)"
      ],
      "metadata": {
        "colab": {
          "base_uri": "https://localhost:8080/"
        },
        "id": "3dfRQDgjSoFw",
        "outputId": "787fffa8-e058-4d1d-99ec-a3e5023b645d"
      },
      "execution_count": null,
      "outputs": [
        {
          "output_type": "stream",
          "name": "stdout",
          "text": [
            "[2, 4, 6, 8, 10, 12, 14, 16, 18, 3, 6, 9, 12, 15, 18, 21, 24, 27, 4, 8, 12, 16, 20, 24, 28, 32, 36, 5, 10, 15, 20, 25, 30, 35, 40, 45, 6, 12, 18, 24, 30, 36, 42, 48, 54, 7, 14, 21, 28, 35, 42, 49, 56, 63, 8, 16, 24, 32, 40, 48, 56, 64, 72, 9, 18, 27, 36, 45, 54, 63, 72, 81]\n"
          ]
        }
      ]
    }
  ]
}