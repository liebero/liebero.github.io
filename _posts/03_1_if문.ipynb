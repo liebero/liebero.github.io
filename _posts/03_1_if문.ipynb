{
  "nbformat": 4,
  "nbformat_minor": 0,
  "metadata": {
    "colab": {
      "provenance": []
    },
    "kernelspec": {
      "name": "python3",
      "display_name": "Python 3"
    },
    "language_info": {
      "name": "python"
    }
  },
  "cells": [
    {
      "cell_type": "markdown",
      "source": [
        "## 03-1 if문"
      ],
      "metadata": {
        "id": "iWQsTx_wOus1"
      }
    },
    {
      "cell_type": "markdown",
      "source": [
        "#### 1. if문은 왜 필요할까?"
      ],
      "metadata": {
        "id": "RIWfPdH6Pglm"
      }
    },
    {
      "cell_type": "code",
      "source": [
        "money = True\n",
        "if money :\n",
        "    print(\"택시를 타고 가라\")\n",
        "else :\n",
        "    print(\"걸어가라\")"
      ],
      "metadata": {
        "colab": {
          "base_uri": "https://localhost:8080/"
        },
        "id": "F788ZI23Pn-Z",
        "outputId": "c03386fd-5d40-4708-a749-12dfa50ebcdd"
      },
      "execution_count": null,
      "outputs": [
        {
          "output_type": "stream",
          "name": "stdout",
          "text": [
            "택시를 타고 가라\n"
          ]
        }
      ]
    },
    {
      "cell_type": "code",
      "source": [
        "money = True\n",
        "if money:\n",
        "    print(\"택시를\")\n",
        "print(\"타고\")\n",
        "    print(\"가라\")"
      ],
      "metadata": {
        "colab": {
          "base_uri": "https://localhost:8080/",
          "height": 145
        },
        "id": "Mk1peJGsRCjE",
        "outputId": "cc8eb035-019e-417b-b466-ebac7ca1a208"
      },
      "execution_count": null,
      "outputs": [
        {
          "output_type": "error",
          "ename": "IndentationError",
          "evalue": "ignored",
          "traceback": [
            "\u001b[0;36m  File \u001b[0;32m\"<ipython-input-11-82e621c85c37>\"\u001b[0;36m, line \u001b[0;32m5\u001b[0m\n\u001b[0;31m    print(\"가라\")\u001b[0m\n\u001b[0m    ^\u001b[0m\n\u001b[0;31mIndentationError\u001b[0m\u001b[0;31m:\u001b[0m unexpected indent\n"
          ]
        }
      ]
    },
    {
      "cell_type": "markdown",
      "source": [
        "- 들여쓰기를 하지 않으면 에러가 난다."
      ],
      "metadata": {
        "id": "5vatMjhRRI0-"
      }
    },
    {
      "cell_type": "markdown",
      "source": [
        "#### 2. 비교연산자\n",
        "\n",
        "| 비교연산자 | 설명 |\n",
        "|--------|---------|\n",
        "| x < y\t| x가 y보다 작다.\n",
        "| x > y |\tx가 y보다 크다.\n",
        "| x == y |\tx와 y가 같다.\n",
        "| x != y |\tx와 y가 같지 않다.\n",
        "| x >= y |\tx가 y보다 크거나 같다.\n",
        "| x <= y |\tx가 y보다 작거나 같다.\n"
      ],
      "metadata": {
        "id": "2AQdapalRVPm"
      }
    },
    {
      "cell_type": "code",
      "source": [
        "money = 2000\n",
        "if money < 3000 :\n",
        "    print (\"걸어가라\")\n",
        "else :\n",
        "    print (\"택시타고 가라\")"
      ],
      "metadata": {
        "colab": {
          "base_uri": "https://localhost:8080/"
        },
        "id": "3CBwjYJLSqa6",
        "outputId": "6a791a5f-4511-4a12-b4cf-6a2c84269227"
      },
      "execution_count": null,
      "outputs": [
        {
          "output_type": "stream",
          "name": "stdout",
          "text": [
            "걸어가라\n"
          ]
        }
      ]
    },
    {
      "cell_type": "markdown",
      "source": [
        "#### 3. and, or, not\n",
        "\n",
        "| 연산자\t| 설명 |\n",
        "|:------:|:-------:|\n",
        "| x or y | \tx와 y 둘 중 하나만 참이어도 참이다. |\n",
        "| x and y |\tx와 y 모두 참이어야 참이다. |\n",
        "| not x | \tx가 거짓이면 참이다. |"
      ],
      "metadata": {
        "id": "BKEQPpbkTkvN"
      }
    },
    {
      "cell_type": "code",
      "source": [
        "money = 2000\n",
        "card = True\n",
        "if money>3000 or card :\n",
        "    print('택시를 타고 가라')\n",
        "else :\n",
        "    print('걸어가라')"
      ],
      "metadata": {
        "colab": {
          "base_uri": "https://localhost:8080/"
        },
        "id": "RfTal_eypWFR",
        "outputId": "776cf1e3-a0fd-44a7-d073-2662bea9f33a"
      },
      "execution_count": null,
      "outputs": [
        {
          "output_type": "stream",
          "name": "stdout",
          "text": [
            "택시를 타고 가라\n"
          ]
        }
      ]
    },
    {
      "cell_type": "markdown",
      "source": [
        "#### 4. in, not in\n",
        "\n",
        "| 연산자\t| 설명 |\n",
        "|:------:|:-------:|\n",
        "| x in 리스트 | x not in 리스트 |\n",
        "| x in 튜플 |\tx not in 튜플 |\n",
        "| x in 문자열 | x not in 문자열 |"
      ],
      "metadata": {
        "id": "SG7EflIiqQnb"
      }
    },
    {
      "cell_type": "code",
      "source": [
        "1 in [1, 2, 3]"
      ],
      "metadata": {
        "colab": {
          "base_uri": "https://localhost:8080/"
        },
        "id": "JxT92Q37qRMX",
        "outputId": "e7e2082b-65f4-4c8a-d999-7f86966836e1"
      },
      "execution_count": null,
      "outputs": [
        {
          "output_type": "execute_result",
          "data": {
            "text/plain": [
              "True"
            ]
          },
          "metadata": {},
          "execution_count": 20
        }
      ]
    },
    {
      "cell_type": "code",
      "source": [
        "1 in (1, 2, 3)"
      ],
      "metadata": {
        "colab": {
          "base_uri": "https://localhost:8080/"
        },
        "id": "eVjjoqFIqwfw",
        "outputId": "92f97cdb-9634-42e3-e3b5-6efc19e8ebe2"
      },
      "execution_count": null,
      "outputs": [
        {
          "output_type": "execute_result",
          "data": {
            "text/plain": [
              "True"
            ]
          },
          "metadata": {},
          "execution_count": 21
        }
      ]
    },
    {
      "cell_type": "code",
      "source": [
        "'p' not in 'python'"
      ],
      "metadata": {
        "colab": {
          "base_uri": "https://localhost:8080/"
        },
        "id": "h0WQvPVcqzLv",
        "outputId": "bd4543c4-0c38-44cd-c443-7ee70de590ed"
      },
      "execution_count": null,
      "outputs": [
        {
          "output_type": "execute_result",
          "data": {
            "text/plain": [
              "False"
            ]
          },
          "metadata": {},
          "execution_count": 23
        }
      ]
    },
    {
      "cell_type": "code",
      "source": [
        "pocket = [\"money\", 'test', 'paper']\n",
        "if 'money' in pocket :\n",
        "    print ('택시를 타라')\n",
        "else :\n",
        "    print ('걸어가라')"
      ],
      "metadata": {
        "colab": {
          "base_uri": "https://localhost:8080/"
        },
        "id": "I-b68RYErFgS",
        "outputId": "4cd5c740-f155-452f-cdad-c5df9e50580a"
      },
      "execution_count": null,
      "outputs": [
        {
          "output_type": "stream",
          "name": "stdout",
          "text": [
            "택시를 타라\n"
          ]
        }
      ]
    },
    {
      "cell_type": "code",
      "source": [
        "pocket = [\"money\", 'test', 'paper']\n",
        "if 'money' in pocket :\n",
        "    pass\n",
        "else :\n",
        "    print ('걸어가라')"
      ],
      "metadata": {
        "id": "ewL4SxL8rwFR"
      },
      "execution_count": null,
      "outputs": []
    },
    {
      "cell_type": "markdown",
      "source": [
        "#### 5. 다양한 조건을 판단하는 elif"
      ],
      "metadata": {
        "id": "QLvSkwP4sA7O"
      }
    },
    {
      "cell_type": "code",
      "source": [
        "money = 2000\n",
        "card = False\n",
        "if money > 3000 :\n",
        "    print('택시타고 가라')\n",
        "elif card :\n",
        "    print('택시를 타고 가라')\n",
        "else :\n",
        "    print('걸어가라')"
      ],
      "metadata": {
        "colab": {
          "base_uri": "https://localhost:8080/"
        },
        "id": "gH3qS2fzmk3_",
        "outputId": "19b21e3c-c8a9-49ee-a3d7-40f8b712a633"
      },
      "execution_count": null,
      "outputs": [
        {
          "output_type": "stream",
          "name": "stdout",
          "text": [
            "걸어가라\n"
          ]
        }
      ]
    },
    {
      "cell_type": "markdown",
      "source": [
        "즉, elif는 이전 조건문이 거짓일 때 수행된다. if, elif, else를 모두 사용할 때 기본 구조는 다음과 같다.\n",
        "\n",
        "```\n",
        "if 조건문:\n",
        "    수행할_문장1\n",
        "    수행할_문장2\n",
        "    \n",
        "elif 조건문:\n",
        "    수행할_문장1\n",
        "    수행할_문장2\n",
        "    .\n",
        "elif 조건문:\n",
        "    수행할_문장1\n",
        "    수행할_문장2\n",
        "----    \n",
        "else:\n",
        "   수행할_문장1\n",
        "   수행할_문장2\n",
        "   ...\n",
        "```\n",
        "\n",
        "![화면 캡처 2023-10-05 113742.png](data:image/png;base64,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)"
      ],
      "metadata": {
        "id": "ppC9IqecsM0O"
      }
    },
    {
      "cell_type": "markdown",
      "source": [
        "#### 6. 조건부 표현식"
      ],
      "metadata": {
        "id": "quZM5yYPs-ej"
      }
    },
    {
      "cell_type": "code",
      "source": [
        "score = 70\n",
        "if score >= 60 :\n",
        "    message = \"success\"\n",
        "else:\n",
        "    message = \"failure\"\n",
        "print(message)"
      ],
      "metadata": {
        "colab": {
          "base_uri": "https://localhost:8080/"
        },
        "id": "fftEBRILto7E",
        "outputId": "c314ae8f-3d9c-42dc-c946-2ab81a9c4624"
      },
      "execution_count": null,
      "outputs": [
        {
          "output_type": "stream",
          "name": "stdout",
          "text": [
            "success\n"
          ]
        }
      ]
    },
    {
      "cell_type": "code",
      "source": [
        "message = \"success\" if score >= 60 else \"failure\""
      ],
      "metadata": {
        "id": "hWR-Jjlc8_Ue"
      },
      "execution_count": null,
      "outputs": []
    }
  ]
}