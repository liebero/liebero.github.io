{
  "nbformat": 4,
  "nbformat_minor": 0,
  "metadata": {
    "colab": {
      "provenance": []
    },
    "kernelspec": {
      "name": "python3",
      "display_name": "Python 3"
    },
    "language_info": {
      "name": "python"
    }
  },
  "cells": [
    {
      "cell_type": "markdown",
      "source": [
        "## 02-7 불 자료형\n",
        "- True: 참을 의미한다.\n",
        "- False: 거짓을 의미한다.\n",
        "> 항상 대문자로 시작\n",
        "\n"
      ],
      "metadata": {
        "id": "U-JuDQskXZT8"
      }
    },
    {
      "cell_type": "markdown",
      "source": [
        "#### 1. 불 자료형은 어떻게 사용할까?"
      ],
      "metadata": {
        "id": "6jNBlkqFZAYD"
      }
    },
    {
      "cell_type": "code",
      "source": [
        "a = True\n",
        "b = False\n",
        "type(a)"
      ],
      "metadata": {
        "colab": {
          "base_uri": "https://localhost:8080/"
        },
        "id": "ctAjqC5_Xh9i",
        "outputId": "f70e64a1-a9d9-42e9-a5a2-9261522b9cc5"
      },
      "execution_count": null,
      "outputs": [
        {
          "output_type": "execute_result",
          "data": {
            "text/plain": [
              "bool"
            ]
          },
          "metadata": {},
          "execution_count": 2
        }
      ]
    },
    {
      "cell_type": "code",
      "source": [
        "1==1"
      ],
      "metadata": {
        "colab": {
          "base_uri": "https://localhost:8080/"
        },
        "id": "rErOBqU8YuTM",
        "outputId": "bb957cc5-b9b7-44f8-aae4-eb5235a9f0f5"
      },
      "execution_count": null,
      "outputs": [
        {
          "output_type": "execute_result",
          "data": {
            "text/plain": [
              "True"
            ]
          },
          "metadata": {},
          "execution_count": 4
        }
      ]
    },
    {
      "cell_type": "code",
      "source": [
        "2>1"
      ],
      "metadata": {
        "colab": {
          "base_uri": "https://localhost:8080/"
        },
        "id": "SLg5u2AVYw_J",
        "outputId": "645d0ec0-70c5-49e1-c76b-523c874bb94f"
      },
      "execution_count": null,
      "outputs": [
        {
          "output_type": "execute_result",
          "data": {
            "text/plain": [
              "True"
            ]
          },
          "metadata": {},
          "execution_count": 6
        }
      ]
    },
    {
      "cell_type": "code",
      "source": [
        "2<1"
      ],
      "metadata": {
        "colab": {
          "base_uri": "https://localhost:8080/"
        },
        "id": "6iPZ3fZ_Y03V",
        "outputId": "dd57f99f-e505-4ad4-ea35-883e32ad1477"
      },
      "execution_count": null,
      "outputs": [
        {
          "output_type": "execute_result",
          "data": {
            "text/plain": [
              "False"
            ]
          },
          "metadata": {},
          "execution_count": 7
        }
      ]
    },
    {
      "cell_type": "markdown",
      "source": [
        "#### 2. 자료형의 참과 거짓\n",
        "\n",
        "\n",
        "|값\t| 참 or 거짓|\n",
        "|-----|-----|\n",
        "|\"python\"\t| 참 |\n",
        "|\" \"\t| 거짓\n",
        "|[1, 2, 3]\t| 참 |\n",
        "|[ ] |\t거짓 |\n",
        "| (1, 2, 3)\t| 참 |\n",
        "|  () |\t거짓 |\n",
        "| {'a': 1} |\t참 |\n",
        "| {} |\t거짓 |\n",
        "| 1\t| 참 |\n",
        "| 0\t| 거짓 |\n",
        "| None |\t거짓 |"
      ],
      "metadata": {
        "id": "q4GPsriAY25p"
      }
    },
    {
      "cell_type": "markdown",
      "source": [
        "* 활용예 - 팝업으로 모두 빼낼때까지 구동"
      ],
      "metadata": {
        "id": "DYJToXn8bKkN"
      }
    },
    {
      "cell_type": "code",
      "source": [
        "a = [1, 2, 3, 4]\n",
        "while a:\n",
        "    print(a.pop())"
      ],
      "metadata": {
        "colab": {
          "base_uri": "https://localhost:8080/"
        },
        "id": "P9QEle0Ya4xE",
        "outputId": "86f7a284-4341-4d78-b959-3fb99bcd3152"
      },
      "execution_count": null,
      "outputs": [
        {
          "output_type": "stream",
          "name": "stdout",
          "text": [
            "4\n",
            "3\n",
            "2\n",
            "1\n"
          ]
        }
      ]
    },
    {
      "cell_type": "code",
      "source": [
        "if [] :\n",
        "    print(\"참\")\n",
        "else :\n",
        "    print('거짓')"
      ],
      "metadata": {
        "colab": {
          "base_uri": "https://localhost:8080/"
        },
        "id": "5s0hdtDibGgj",
        "outputId": "a7f6af28-9aa0-4098-9c4e-77c71192611f"
      },
      "execution_count": null,
      "outputs": [
        {
          "output_type": "stream",
          "name": "stdout",
          "text": [
            "거짓\n"
          ]
        }
      ]
    },
    {
      "cell_type": "code",
      "source": [
        "bool('파이썬')"
      ],
      "metadata": {
        "colab": {
          "base_uri": "https://localhost:8080/"
        },
        "id": "-yg-FU2Wbw85",
        "outputId": "b42e8efa-e6fb-43f3-c4b3-f341b37bb139"
      },
      "execution_count": null,
      "outputs": [
        {
          "output_type": "execute_result",
          "data": {
            "text/plain": [
              "True"
            ]
          },
          "metadata": {},
          "execution_count": 11
        }
      ]
    },
    {
      "cell_type": "code",
      "source": [
        "bool(\"\")"
      ],
      "metadata": {
        "colab": {
          "base_uri": "https://localhost:8080/"
        },
        "id": "ANZ0OnIHb-ph",
        "outputId": "945d1991-6cc1-478e-e326-12572fedf8b4"
      },
      "execution_count": null,
      "outputs": [
        {
          "output_type": "execute_result",
          "data": {
            "text/plain": [
              "False"
            ]
          },
          "metadata": {},
          "execution_count": 12
        }
      ]
    },
    {
      "cell_type": "code",
      "source": [],
      "metadata": {
        "id": "KohhmZatcCcr"
      },
      "execution_count": null,
      "outputs": []
    }
  ]
}